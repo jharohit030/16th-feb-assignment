{
 "cells": [
  {
   "cell_type": "code",
   "execution_count": null,
   "id": "ad2fd413",
   "metadata": {},
   "outputs": [],
   "source": [
    "#Question 1:\n",
    "\n",
    "A database is an organized collection of structured information, or data, typically stored electronically in a computer system.\n",
    "\n",
    "Difference between sql and nosql are:\n",
    "sql:\n",
    "    1.These databases have fixed or static or predefined schema\n",
    "    2.These databases are not suited for hierarchical data storage.\n",
    "    3.These databases are best suited for complex queries.\n",
    "    4.Vertically Scalable and follows the ACID property.\n",
    "    Examples: MySQL, PostgreSQL, Oracle, MS-SQL Server, etc\n",
    "        \n",
    "Nosql:\n",
    "    1.They have dynamic schema\n",
    "    2.These databases are best suited for hierarchical data storage.\n",
    "    3.These databases are not so good for complex queries\n",
    "    4.Horizontally scalable and Follows CAP(consistency, availability, partition tolerance)\n",
    "    Examples: MongoDB, GraphQL, HBase, Neo4j, Cassandra, etc\n",
    "\n"
   ]
  },
  {
   "cell_type": "code",
   "execution_count": null,
   "id": "0af7d4a1",
   "metadata": {},
   "outputs": [],
   "source": [
    "#Question 2:\n",
    "\n",
    "Data Definition Language(DDL) is a subset of SQL and a part of DBMS(Database Management System). DDL consist of Commands to commands like CREATE, ALTER, TRUNCATE and DROP. These commands are used to create or modify the tables in SQL.\n",
    "\n",
    "1.CREATE :\n",
    "This command is used to create a new table in SQL. The user has to give information like table name, column names, and their datatypes.\n",
    "Example\n",
    "\n",
    "CREATE TABLE Student_info\n",
    "(\n",
    "College_Id number(2),\n",
    "College_name varchar(30),\n",
    "Branch varchar(10)\n",
    ");\n",
    "\n",
    "2.ALTER :\n",
    "This command is used to add, delete or change columns in the existing table. The user needs to know the existing table name and can do add, delete or modify tasks easily.\n",
    "\n",
    "Example\n",
    "ALTER TABLE Student_info\n",
    "ADD CGPA number;\n",
    "\n",
    "3.TRUNCATE :\n",
    "This command is used to remove all rows from the table, but the structure of the table still exists.\n",
    "\n",
    "Example\n",
    "TRUNCATE TABLE Student_info;\n",
    "\n",
    "4.DROP :\n",
    "This command is used to remove an existing table along with its structure from the Database.\n",
    "Example\n",
    "\n",
    "DROP TABLE Student_info;\n"
   ]
  },
  {
   "cell_type": "code",
   "execution_count": null,
   "id": "e1223bf3",
   "metadata": {},
   "outputs": [],
   "source": [
    "#Question 3:\n",
    "\n",
    "DML stands for Data Manipulation Language.  DML is a way to inform a database precisely what we want it to do by conversing in a manner that it has been built to comprehend from the scratch. When it comes to interacting within existing data, whether adding, moving, or deleting data, it provides a convenient way to do so.\n",
    "\n",
    "1.INSERT Command –\n",
    "This command is used to enter the information or values into a row. We can connect one or more records to a single table within a repository using this instruction. This is often used to connect an unused tag to the documents.\n",
    "Example\n",
    "\n",
    "INSERT INTO students ('stu_id' int, 'stu_name' varchar(20), 'city' varchar(20))\n",
    "\n",
    "VALUES ('1', 'Nirmit', 'Gorakhpur'); \n",
    "\n",
    "2.UPDATE Command –\n",
    "This command is used to alter existing table records. Within a table, it modifies data from one or more records. This command is used to alter the data which is already present in a table.\n",
    "Example\n",
    "\n",
    "UPDATE students\n",
    "\n",
    "SET due_fees = 20000\n",
    "\n",
    "WHERE stu_name = 'Mini'; \n",
    "\n",
    "3.DELETE Command –\n",
    "It deletes all archives from a table. This command is used to erase some or all of the previous table’s records. If we do not specify the ‘WHERE’ condition then all the rows would be erased or deleted.\n",
    "Example\n",
    "\n",
    "DELETE FROM students\n",
    "\n",
    "WHERE stu_id = '001'; "
   ]
  },
  {
   "cell_type": "code",
   "execution_count": null,
   "id": "a04fb60e",
   "metadata": {},
   "outputs": [],
   "source": [
    "#Question 4:\n",
    "\n",
    "The full form of DQL is Data Query Language. DQL is a part of the grouping involved in SQL (Structures Query Language) sub-languages.\n",
    "SELECT Command-\n",
    "\n",
    "Select is the most commonly used statement in SQL. The SELECT Statement in SQL is used to retrieve or fetch data from a database\n",
    "Example\n",
    "\n",
    "for fetching particular column\n",
    "\n",
    "SELECT column1,column2 FROM table_name \n",
    "column1 , column2: names of the fields of the table\n",
    "table_name: from where we want to apply query\n",
    "    \n",
    "for fetching entire table\n",
    "\n",
    " SELECT * FROM table_name; \n",
    " -- asterisks represent all attributes of the table"
   ]
  },
  {
   "cell_type": "code",
   "execution_count": null,
   "id": "6a8ca6dc",
   "metadata": {},
   "outputs": [],
   "source": [
    "#Question 5:\n",
    "\n",
    "Primary Key: A primary key is used to ensure that data in the specific column is unique. A column cannot have NULL values. It is either an existing table column or a column that is specifically generated by the database according to a defined sequence. \n",
    "\n",
    "Example:\n",
    "STUD_NO, as well as STUD_PHONE both, are candidate keys for relation STUDENT but STUD_NO can be chosen as the primary key (only one out of many candidate keys). \n",
    "\n",
    "Foreign Key: \n",
    "A foreign key is a column or group of columns in a relational database table that provides a link between data in two tables. It is a column (or columns) that references a column (most often the primary key) of another table. \n",
    "\n",
    "Example:\n",
    "STUD_NO in STUDENT_COURSE is a foreign key to STUD_NO in STUDENT relation. \n",
    "\n"
   ]
  },
  {
   "cell_type": "code",
   "execution_count": 1,
   "id": "8f36523d",
   "metadata": {},
   "outputs": [],
   "source": [
    "#Question 6:\n",
    "\n",
    "import mysql.connector\n",
    "\n",
    "mydb = mysql.connector.connect(\n",
    "\n",
    "    host = 'localhost',\n",
    "    user = 'root',\n",
    "    password = 'Rohit@2002'\n",
    ")\n",
    "mycursor = mydb.cursor()"
   ]
  },
  {
   "cell_type": "code",
   "execution_count": 2,
   "id": "883c08a3",
   "metadata": {},
   "outputs": [
    {
     "data": {
      "text/plain": [
       "<mysql.connector.cursor_cext.CMySQLCursor at 0x1a84427f340>"
      ]
     },
     "execution_count": 2,
     "metadata": {},
     "output_type": "execute_result"
    }
   ],
   "source": [
    "mycursor"
   ]
  },
  {
   "cell_type": "code",
   "execution_count": null,
   "id": "20f4abd3",
   "metadata": {},
   "outputs": [],
   "source": [
    "The MySQLCursor of mysql-connector-python (and similar libraries) is used to execute statements to communicate with the MySQL database.\n",
    "\n",
    "Using the methods of it you can execute SQL statements, fetch data from the result sets, call procedures.\n",
    "We can create Cursor object using the cursor() method of the Connection object/class.\n",
    "\n",
    "execute()\n",
    "\n",
    "This method accepts a MySQL query as a parameter and executes the given query.\n",
    "\n"
   ]
  },
  {
   "cell_type": "code",
   "execution_count": null,
   "id": "81f68949",
   "metadata": {},
   "outputs": [],
   "source": [
    "#Question 7:\n",
    "\n",
    "Order of execution of SQL clauses\n",
    "\n",
    "1.FROM -- Tables are joined to get the base data.\n",
    "2.WHERE -- The base data is filtered.\n",
    "3.GROUP BY -- The filtered base data is grouped.\n",
    "4.HAVING -- The grouped base data is filtered.\n",
    "5.SELECT -- The final data is returned.\n",
    "6.ORDER BY -- The final data is sorted.\n",
    "7.LIMIT -- The returned data is limited to row count.\n",
    "\n"
   ]
  }
 ],
 "metadata": {
  "kernelspec": {
   "display_name": "Python 3 (ipykernel)",
   "language": "python",
   "name": "python3"
  },
  "language_info": {
   "codemirror_mode": {
    "name": "ipython",
    "version": 3
   },
   "file_extension": ".py",
   "mimetype": "text/x-python",
   "name": "python",
   "nbconvert_exporter": "python",
   "pygments_lexer": "ipython3",
   "version": "3.10.9"
  }
 },
 "nbformat": 4,
 "nbformat_minor": 5
}
